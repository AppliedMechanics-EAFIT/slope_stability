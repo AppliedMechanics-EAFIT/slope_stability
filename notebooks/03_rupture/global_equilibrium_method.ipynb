{
 "cells": [
  {
   "attachments": {},
   "cell_type": "markdown",
   "metadata": {},
   "source": [
    "# Global equilibrium method\n",
    "\n",
    "© 2022 Exneyder A. Montoya-Araque, Daniel F. Ruiz and Universidad EAFIT.\n",
    "\n",
    "This notebook can be interactively run in [Google - Colab](https://colab.research.google.com/github/AppliedMechanics-EAFIT/EAFIT_slope_stability/blob/main/notebooks/03_rupture/global_equilibrium_method.ipynb)."
   ]
  },
  {
   "cell_type": "markdown",
   "metadata": {},
   "source": [
    "## Required modules and initial setup"
   ]
  },
  {
   "cell_type": "code",
   "execution_count": 1,
   "metadata": {},
   "outputs": [],
   "source": [
    "import pandas as pd\n",
    "import numpy as np\n",
    "import matplotlib.pyplot as plt\n",
    "import matplotlib as mpl\n",
    "from shapely.geometry import Polygon, LineString, Point\n",
    "from shapely.ops import split\n",
    "from ipywidgets import widgets as wgt\n",
    "from IPython import get_ipython\n",
    "from IPython.display import display\n",
    "\n",
    "if 'google.colab' in str(get_ipython()):\n",
    "    print('Running on CoLab. Installing the required modules...')\n",
    "    from subprocess import run\n",
    "    run('pip install ipympl', shell=True);\n",
    "    from google.colab import output\n",
    "    output.enable_custom_widget_manager()\n",
    "\n",
    "# %matplotlib widget\n",
    "mpl.rcParams.update({\n",
    "    \"font.family\": \"serif\",\n",
    "    \"font.serif\": [\"Computer Modern Roman\", \"cmr\", \"cmr10\", \"DejaVu Serif\"],  # or \n",
    "    \"mathtext.fontset\": \"cm\",  # Use Computer Modern fonts for math\n",
    "    \"axes.formatter.use_mathtext\": True,  # Use mathtext for axis labels\n",
    "    \"axes.unicode_minus\": False,   # Use standard minus sign instead of a unicode character\n",
    "})"
   ]
  },
  {
   "cell_type": "markdown",
   "metadata": {},
   "source": [
    "## Area and centroid of a mass sliding along a circular surface\n",
    "\n",
    "### Funtions"
   ]
  },
  {
   "cell_type": "code",
   "execution_count": 2,
   "metadata": {},
   "outputs": [],
   "source": [
    "def slope(height, inclination, hzt_dist):\n",
    "    hzt_slope = height / np.tan(np.radians(inclination))  # horizontal dist. of slope face\n",
    "    terrain_coords = ((hzt_dist, 0, -hzt_slope, -hzt_slope - hzt_dist),\n",
    "                      (0, 0, height, height))\n",
    "    return np.array(terrain_coords)\n",
    "\n",
    "def get_geometric_parameters(terrain_coords, center_x, center_y, radius):\n",
    "    slope_surf = LineString(terrain_coords.T)\n",
    "    circle = Point(center_x, center_y).buffer(radius)\n",
    "    split_circle = split(circle, slope_surf)\n",
    "    if len(split_circle.geoms)==1:\n",
    "        mass_polygon = split_circle.geoms[0]\n",
    "        surface_line = mass_polygon.exterior\n",
    "    else:\n",
    "        split_circle_0_xy = split_circle.geoms[0].exterior.xy\n",
    "        split_circle_1_xy = split_circle.geoms[1].exterior.xy\n",
    "        if max(split_circle_0_xy[1]) > max(split_circle_1_xy[1]):\n",
    "            mass_polygon = split_circle.geoms[1]\n",
    "        else:\n",
    "            mass_polygon = split_circle.geoms[0]\n",
    "        surface_line = mass_polygon.exterior.difference(slope_surf.buffer(.001))\n",
    "    return mass_polygon, surface_line\n",
    "\n",
    "\n",
    "def plot_slope(height, inclination, center_x, center_y, radius, widget=False, **kwargs):\n",
    "    hzt_slope = height / np.tan(np.radians(inclination))\n",
    "    terrain_coords = slope(height, inclination, 1e9)\n",
    "    mass_polygon, surface_line = get_geometric_parameters(\n",
    "        terrain_coords, center_x, center_y, radius)\n",
    "    hzt_dist = max(\n",
    "        max(surface_line.xy[0]), abs(min(surface_line.xy[0]))-hzt_slope, 0.5*height)\n",
    "    terrain_coords = slope(height, inclination, 1.2 * hzt_dist)\n",
    "    # Figure\n",
    "    fig, ax = plt.subplots(ncols=1, nrows=1, figsize=kwargs.get('figsize', [8, 4]))\n",
    "    # ax.plot(terrain_coords[0], terrain_coords[1], \"ok\")\n",
    "    # ax.plot(*mass_polygon.exterior.xy, ':y')\n",
    "    ax.plot(terrain_coords[0], terrain_coords[1], \"-k\")\n",
    "    ax.plot(*surface_line.xy, \"#BB5566\", ls=\"--\",\n",
    "            label=f\"Slip surface \\n$\\cdot$Area: {mass_polygon.area:.2f} m$^2$ \"\n",
    "            +f\"\\n$\\cdot$Length: {surface_line.length:.2f} m\")\n",
    "    ax.plot(center_x, center_y, color=\"black\", marker=\"x\", ls=\"\",\n",
    "        label=f\"Center: $x=${center_x:.1f} m, $y=${center_y:.1f} m\")\n",
    "    ax.plot(*mass_polygon.centroid.xy, color=\"#004488\", marker=\"o\", ls=\"\",\n",
    "            label=f\"Centroid: $x=${mass_polygon.centroid.x:.1f} m, \"\n",
    "            + f\"$y=${mass_polygon.centroid.y:.1f} m\")\n",
    "    ax.set(xlabel=\"$x$ [m]\", ylabel=\"$y$ [m]\")\n",
    "    ax.set_aspect(\"equal\", \"box\")\n",
    "    ax.spines[\"bottom\"].set_linewidth(1.5)\n",
    "    ax.spines[\"left\"].set_linewidth(1.5)\n",
    "    ax.spines[\"right\"].set_visible(False)\n",
    "    ax.spines[\"top\"].set_visible(False)\n",
    "    ax.legend(loc=\"center left\", bbox_to_anchor=(1.01, 0.5))\n",
    "    return\n",
    "\n",
    "# plot_slope(height=18, inclination=45, center_x=-3.5, center_y=12, radius=15)\n",
    "# plot_slope(height=8, inclination=45, center_x=-3.5, center_y=12, radius=11.4)"
   ]
  },
  {
   "cell_type": "markdown",
   "metadata": {},
   "source": [
    "### Static figure"
   ]
  },
  {
   "cell_type": "code",
   "execution_count": 3,
   "metadata": {},
   "outputs": [
    {
     "data": {
      "image/png": "[encoded data removed]",
      "text/plain": [
       "<Figure size 800x400 with 1 Axes>"
      ]
     },
     "metadata": {},
     "output_type": "display_data"
    }
   ],
   "source": [
    "height = 8  # [m]\n",
    "inclination = 45  # [°]\n",
    "center_x = -3.5  # [m]\n",
    "center_y = 12  # [m]\n",
    "radius = 15  # [m]\n",
    "plot_slope(height, inclination, center_x, center_y, radius)"
   ]
  },
  {
   "cell_type": "markdown",
   "metadata": {},
   "source": [
    "### Interactive figure"
   ]
  },
  {
   "cell_type": "code",
   "execution_count": 4,
   "metadata": {},
   "outputs": [
    {
     "data": {
      "application/vnd.jupyter.widget-view+json": {
       "model_id": "32c225fa303b49c2856e98b71516644f",
       "version_major": 2,
       "version_minor": 0
      },
      "text/plain": [
       "HBox(children=(VBox(children=(FloatSlider(value=8.0, description='Height [m]', layout=Layout(width='400px'), s…"
      ]
     },
     "execution_count": 4,
     "metadata": {},
     "output_type": "execute_result"
    }
   ],
   "source": [
    "s, l = {'description_width': '150'}, wgt.Layout(width='400px')\n",
    "controls = {\n",
    "    'height': wgt.FloatSlider(value=8, min=0.0, description=\"Height [m]\", style=s, layout=l),\n",
    "    'inclination': wgt.FloatSlider(value=45, min=0.5, max=90, description=\"Inclination [°]\", style=s, layout=l),\n",
    "    'center_x': wgt.FloatSlider(value=-3.5, min=-50, description=\"Center_𝑥 [m]\", style=s, layout=l),\n",
    "    'center_y': wgt.FloatSlider(value=12, min=0.1, description=\"Center_𝑦 [m]\", style=s, layout=l),\n",
    "    'radius': wgt.FloatSlider(value=15, min=0.1, description=\"Radius [m]\", style=s, layout=l),\n",
    "    'widget': wgt.Checkbox(value=True, description='Non-vector image (improve widget performance)', style=s, layout=l)\n",
    "}\n",
    "fig = wgt.interactive_output(plot_slope, controls)\n",
    "wgt.HBox((wgt.VBox(list(controls.values())), fig), layout=wgt.Layout(align_items='center'))"
   ]
  }
 ],
 "metadata": {
  "kernelspec": {
   "display_name": "EAFIT-env",
   "language": "python",
   "name": "python3"
  },
  "language_info": {
   "codemirror_mode": {
    "name": "ipython",
    "version": 3
   },
   "file_extension": ".py",
   "mimetype": "text/x-python",
   "name": "python",
   "nbconvert_exporter": "python",
   "pygments_lexer": "ipython3",
   "version": "3.11.11"
  },
  "orig_nbformat": 4,
  "vscode": {
   "interpreter": {
    "hash": "ef8c03790f2d0da309ee3dc20d7c1e218681fdbff540ce14f81a0ed1380bf99b"
   }
  }
 },
 "nbformat": 4,
 "nbformat_minor": 2
}
