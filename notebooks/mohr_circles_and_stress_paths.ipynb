{
 "cells": [
  {
   "cell_type": "markdown",
   "metadata": {},
   "source": [
    "# Mohr circle and stress paths\n",
    "\n",
    "© 2022 Exneyder A. Montoya-Araque, Daniel F. Ruiz and Universidad EAFIT.\n",
    "\n",
    "This notebook can be interactively run in [Google - Colab](https://colab.research.google.com/github/eamontoyaa/EAFIT_slope_stability/blob/main/notebooks/mohr_circles_and_stress_paths.ipynb).\n",
    "\n"
   ]
  },
  {
   "cell_type": "markdown",
   "metadata": {},
   "source": [
    "## Required modules"
   ]
  },
  {
   "cell_type": "code",
   "execution_count": null,
   "metadata": {},
   "outputs": [],
   "source": [
    "import numpy as np\n",
    "import matplotlib.pyplot as plt\n",
    "import matplotlib as mpl\n",
    "from ipywidgets import interact, widgets, fixed"
   ]
  },
  {
   "cell_type": "markdown",
   "metadata": {},
   "source": [
    "## Global configuration for plots"
   ]
  },
  {
   "cell_type": "code",
   "execution_count": null,
   "metadata": {},
   "outputs": [],
   "source": [
    "plt.style.use(\"default\")\n",
    "# plt.rcParams[\"image.cmap\"] = \"brg\"\n",
    "# mpl.rcParams['axes.color_cycle'] = plt.get_cmap(\"brg\")\n",
    "mpl.rcParams.update(\n",
    "    {\n",
    "        \"font.family\": \"serif\",  # Use the Computer modern font\n",
    "        \"font.serif\": \"cmr10\",\n",
    "        \"mathtext.fontset\": \"cm\",\n",
    "        \"axes.formatter.use_mathtext\": True,\n",
    "        \"axes.unicode_minus\": False,\n",
    "    }\n",
    ")\n"
   ]
  },
  {
   "cell_type": "markdown",
   "metadata": {},
   "source": [
    "## Ejercicio\n",
    "\n",
    "El siguiente ejercio se plantea y desarrolla a partir del originalmente publicado por [S. Olivella *et al.,* (2009)](http://hdl.handle.net/2099.3/36530).\n",
    "\n",
    "En un punto de una arena compacta actúan unas tensiones $\\sigma_{xx} = 7.0\\,\\mathrm{kg/cm^2}$ $(\\sigma_\\mathrm{h})$ y $\\tau_{xy} = 2.2\\,\\mathrm{kg/cm^2}$ en un plano vertical, y $\\sigma_{yy} = 5.0\\,\\mathrm{kg/cm^2}$ $(\\sigma_\\mathrm{v})$ en un plano horizontal. Este estado tensional inicial sufre sucesivamente las siguiente modificaciones:\n",
    "\n",
    "a. Reducción de $\\tau_{xy}$ hasta $0.0\\,\\mathrm{kg/cm^2}$\n",
    "\n",
    "b. Aumento de $\\sigma_{xx}$ hasta $8.42\\,\\mathrm{kg/cm^2}$ y disminución de $\\sigma_{yy}$ hasta $3.58\\,\\mathrm{kg/cm^2}$\n",
    "\n",
    "c. Reducción de $\\tau_{yx}$ hasta $-2.0\\,\\mathrm{kg/cm^2}$\n",
    "\n",
    "d. Aumento de $\\sigma_\\mathrm{v}$ hasta $8.42\\,\\mathrm{kg/cm^2}$ y reducción de $\\sigma_\\mathrm{h}$ hasta $3.58\\,\\mathrm{kg/cm^2}$\n",
    "\n",
    "e. Aumento de $\\sigma_{xx}$ hasta $10.0\\,\\mathrm{kg/cm^2}$ y de $\\sigma_{yy}$ hasta $5.16\\,\\mathrm{kg/cm^2}$\n",
    "\n",
    "f. Reducción de $\\sigma_{yy}$ hasta $4.58\\,\\mathrm{kg/cm^2}$\n",
    "\n",
    "g. Aumento indefinido de $\\sigma_{xx}$.\n",
    "\n",
    "Represente los círculos de Mohr del estado inicial y los sucesivos estados modificados.\n",
    "\n",
    "Si se hace la hipótesis de que el suelo llega a rotura cuando $\\tau_\\mathrm{n} > 0.735 \\sigma_\\mathrm{n}$\n",
    "en algún plano, ¿se llega a rotura en la trayectoria indicada? ¿Cuándo? ¿En qué plano se produce?\n"
   ]
  },
  {
   "cell_type": "code",
   "execution_count": null,
   "metadata": {},
   "outputs": [],
   "source": [
    "sigma_x = 7.0\n",
    "sigma_yy = 5.0\n",
    "tau_xy = 2.2"
   ]
  },
  {
   "cell_type": "markdown",
   "metadata": {},
   "source": [
    "**Centro, $c$, y esfuerzo medio, $\\sigma_\\mathrm{m}$**\n",
    "$$\n",
    "c = \\sigma_\\mathrm{m} = \\frac{1}{2} (\\sigma_\\mathrm{xx} + \\sigma_\\mathrm{yy})\n",
    "$$"
   ]
  },
  {
   "cell_type": "markdown",
   "metadata": {},
   "source": [
    "**Radio, $r$ y esfuerzo cortante máximo, $\\tau_\\mathrm{max}$**\n",
    "\n",
    "$$\n",
    "r = \\tau_\\mathrm{max} = \\sqrt{\\sigma_\\mathrm{xx}^2 + (\\tau_\\mathrm{xy} - c)^2}\n",
    "$$"
   ]
  },
  {
   "cell_type": "code",
   "execution_count": null,
   "metadata": {},
   "outputs": [],
   "source": [
    "def plot_mohr_circle(\n",
    "    sigma_xx, sigma_yy, tau_xy, plot_envelope=False, plot_pole=False, plot_plane=False, alpha=0, xlim=(0, 20), ylim=(-7, 7)\n",
    "):\n",
    "    c = 0.5 * (sigma_xx + sigma_yy)\n",
    "    r = np.sqrt((sigma_xx - c) ** 2 + tau_xy**2)\n",
    "    sig_1 = r * np.cos(0) + c\n",
    "    sig_3 = r * np.cos(np.pi) + c\n",
    "\n",
    "    outcome = {\n",
    "        \"sig_1\": sig_1,\n",
    "        \"sig_3\": sig_3,\n",
    "        \"sig_xx\": sigma_xx,\n",
    "        \"sig_yy\": sigma_yy,\n",
    "        \"tau_xy\": tau_xy,\n",
    "        \"s\": 0.5 * (sig_1 + sig_3),\n",
    "        \"t\": 0.5 * (sig_1 - sig_3),\n",
    "        \"p\": 1 / 3 * (sig_1 + 2 * sig_3),\n",
    "        \"q\": sig_1 - sig_3,\n",
    "    }\n",
    "\n",
    "    factor = 1.1\n",
    "    theta = np.linspace(0, 2 * np.pi, 200)\n",
    "    sigma = np.linspace(0, sig_1 * factor, 200)\n",
    "\n",
    "    fig, ax = plt.subplots(ncols=1, nrows=1, figsize=[6.5, 3.5])\n",
    "    ax.axhline(y=0, xmin=0, xmax=sig_1 * factor, c=\"k\")\n",
    "    ax.plot(r * np.cos(theta) + c, r * np.sin(theta), c=\"k\")  # Mohr circle\n",
    "\n",
    "    label = \"$\\sigma_{1}=$\" + f\"{sig_1:.1f}\"  # sigma_1\n",
    "    ax.plot(sig_1, 0, ls=\"\", c=\"#BB5566\", marker=\".\", ms=12, label=label)\n",
    "    label = \"$\\sigma_{3}=$\" + f\"{sig_3:.1f}\"  # sigma_3\n",
    "    ax.plot(sig_3, 0, ls=\"\", c=\"#004488\", marker=\".\", ms=12, label=label)\n",
    "    label = \"$\\\\tau_\\mathrm{max}=$\" + f\"{r:.1f}\"  # tau_max\n",
    "    ax.plot(c, r, ls=\"\", c=\"#cc3300\", marker=\"P\", ms=7, label=label)    \n",
    "    # sigma_xx, tau_xy\n",
    "    label = (\"$\\sigma_{xx}=$\" + f\"{sigma_xx:.1f}\" + \", $\\\\tau_{xy}=$\" + f\"{tau_xy:.1f}\")\n",
    "    ax.plot(sigma_xx, tau_xy, ls=\"\", c=\"#DDAA33\", marker=\"s\", label=label)\n",
    "    # sigma_yy, (-)tau_xy\n",
    "    label = (\"$\\sigma_{yy}=$\" + f\"{sigma_yy:.1f}\" + \", $\\\\tau_{yx}=$\" + f\"{tau_xy:.1f}\")\n",
    "    ax.plot(sigma_yy, -1 * tau_xy, ls=\"\", c=\"#117733\", marker=\"s\", label=label)\n",
    "\n",
    "    if plot_envelope:  # Failure envelope\n",
    "        label = \"Failure criterion \\n$\\\\tau_\\mathrm{n} = 0.735 \\sigma_\\mathrm{n}$\"\n",
    "        ax.plot(sigma, 0.735 * sigma, c=\"r\", label=label)\n",
    "\n",
    "    if plot_pole:  # Pole and stress on a plane \n",
    "        ax.axhline(y=-1 * tau_xy, c=\"b\", ls=\"--\", lw=0.75)\n",
    "        ax.axvline(x=sigma_xx, c=\"b\", ls=\"--\", lw=0.75)\n",
    "        ax.plot(sigma_xx, -1 * tau_xy, ls=\"\", c=\"k\",marker=\"o\",label=\"Pole\")\n",
    "    if  plot_plane:\n",
    "        # beta = 0.5 * np.degrees(np.arctan(tau_xy/sigma_xx))\n",
    "        beta = np.degrees(np.arctan((sig_1 - sigma_xx)/tau_xy))\n",
    "        theta = alpha + beta\n",
    "        plane_sig_n = r * np.cos(np.radians(2 * theta)) + c\n",
    "        plane_tau_n = r * np.sin(np.radians(2 * theta))\n",
    "        label = (\n",
    "            \"Stress state on the plane\\n\" + \"$\\sigma_\\mathrm{n}=$\" + f\"{plane_sig_n:.1f}\"\n",
    "            + \", $\\\\tau_\\mathrm{n}=$\" + f\"{plane_tau_n:.1f}\"\n",
    "        )\n",
    "        ax.plot(plane_sig_n, plane_tau_n, ls=\"\", c=\"r\", marker=\"o\", label=label)\n",
    "        ax.plot(\n",
    "            (plane_sig_n, sigma_xx), (plane_tau_n, -1 * tau_xy), c=\"r\", ls=\"--\", lw=0.75,\n",
    "            label=f\"Plano a {alpha:.2f}\" + \"$^{\\circ}$ del plano $\\sigma_\\mathrm{11}$\"\n",
    "        )\n",
    "\n",
    "    ax.legend(loc=\"center left\", bbox_to_anchor=(1, 0.5))\n",
    "    ax.grid(True, ls=\"--\")\n",
    "    ax.spines[\"bottom\"].set_linewidth(1.5)\n",
    "    ax.spines[\"left\"].set_linewidth(1.5)\n",
    "    # ax.axis(\"equal\")\n",
    "    ax.set_aspect(\"equal\", adjustable=None, anchor='C')\n",
    "    ax.set(\n",
    "        xlabel=\"Normal stress, $\\sigma_\\mathrm{n}\\;[\\mathrm{kg/cm^2}]$\",\n",
    "        ylabel=\"Shear stress, $\\\\tau_\\mathrm{n}\\;[\\mathrm{kg/cm^2}]$\",\n",
    "        # xlim=(0, sig_1 * factor),\n",
    "        xlim=xlim,\n",
    "        ylim=ylim\n",
    "    )\n",
    "    fig.tight_layout()\n",
    "    return outcome\n"
   ]
  },
  {
   "cell_type": "markdown",
   "metadata": {},
   "source": [
    "## Modificaciones al estado de esfuerzos inicial"
   ]
  },
  {
   "cell_type": "markdown",
   "metadata": {},
   "source": [
    "### Estado inicial $\\sigma_{xx} = \\sigma_\\mathrm{h}= 7.0\\,\\mathrm{\\frac{kg}{cm^2}}$, $\\sigma_{yy} = \\sigma_\\mathrm{v} = 5.0\\,\\mathrm{\\frac{kg}{cm^2}}$, y $\\tau_{xy} = 2.2\\,\\mathrm{\\frac{kg}{cm^2}}$ "
   ]
  },
  {
   "cell_type": "code",
   "execution_count": null,
   "metadata": {},
   "outputs": [],
   "source": [
    "stage_0 = plot_mohr_circle(sigma_xx=7.0, sigma_yy=5.0, tau_xy=2.2)\n",
    "stage_0"
   ]
  },
  {
   "cell_type": "markdown",
   "metadata": {},
   "source": [
    "### a. Reducción de $\\tau_{xy}$ hasta $0.0\\,\\mathrm{\\frac{kg}{cm^2}}$"
   ]
  },
  {
   "cell_type": "code",
   "execution_count": null,
   "metadata": {},
   "outputs": [],
   "source": [
    "stage_a = plot_mohr_circle(sigma_xx=7.0, sigma_yy=5.0, tau_xy=0)\n",
    "stage_a"
   ]
  },
  {
   "cell_type": "markdown",
   "metadata": {},
   "source": [
    "### b. Aumento de $\\sigma_{xx}$ hasta $8.42\\,\\mathrm{\\frac{kg}{cm^2}}$ y disminución de $\\sigma_{yy}$ hasta $3.58\\,\\mathrm{\\frac{kg}{cm^2}}$"
   ]
  },
  {
   "cell_type": "code",
   "execution_count": null,
   "metadata": {},
   "outputs": [],
   "source": [
    "stage_b = plot_mohr_circle(sigma_xx=8.42, sigma_yy=3.58, tau_xy=0)\n",
    "stage_b"
   ]
  },
  {
   "cell_type": "markdown",
   "metadata": {},
   "source": [
    "### c. Reducción de $\\tau_{yx}$ hasta $-2.0\\,\\mathrm{\\frac{kg}{cm^2}}$\n",
    "Lo cual es equivalente a un incremento de $\\tau_\\mathrm{xy}$ hasta $2.0\\,\\mathrm{\\frac{kg}{cm^2}}$"
   ]
  },
  {
   "cell_type": "code",
   "execution_count": null,
   "metadata": {},
   "outputs": [],
   "source": [
    "stage_c = plot_mohr_circle(sigma_xx=8.42, sigma_yy=3.58, tau_xy=2.0)\n",
    "stage_c"
   ]
  },
  {
   "cell_type": "markdown",
   "metadata": {},
   "source": [
    "### d. Aumento de $\\sigma_\\mathrm{v}$ hasta $8.42\\,\\mathrm{\\frac{kg}{cm^2}}$ y reducción de $\\sigma_\\mathrm{h}$ hasta $3.58\\,\\mathrm{\\frac{kg}{cm^2}}$"
   ]
  },
  {
   "cell_type": "code",
   "execution_count": null,
   "metadata": {},
   "outputs": [],
   "source": [
    "stage_d = plot_mohr_circle(sigma_xx=3.58, sigma_yy=8.42, tau_xy=2.0)\n",
    "stage_d"
   ]
  },
  {
   "cell_type": "markdown",
   "metadata": {},
   "source": [
    "### e. Aumento de $\\sigma_{xx}$ hasta $10.0\\,\\mathrm{\\frac{kg}{cm^2}}$ y de $\\sigma_{yy}$ hasta $5.16\\,\\mathrm{\\frac{kg}{cm^2}}$"
   ]
  },
  {
   "cell_type": "code",
   "execution_count": null,
   "metadata": {},
   "outputs": [],
   "source": [
    "stage_e = plot_mohr_circle(sigma_xx=10.0, sigma_yy=5.16, tau_xy=2.0)\n",
    "stage_e"
   ]
  },
  {
   "cell_type": "markdown",
   "metadata": {},
   "source": [
    "### f. Reducción de $\\sigma_{yy}$ hasta $4.58\\,\\mathrm{\\frac{kg}{cm^2}}$"
   ]
  },
  {
   "cell_type": "code",
   "execution_count": null,
   "metadata": {},
   "outputs": [],
   "source": [
    "stage_f = plot_mohr_circle(sigma_xx=10.0, sigma_yy=4.58, tau_xy=2.0)\n",
    "stage_f"
   ]
  },
  {
   "cell_type": "markdown",
   "metadata": {},
   "source": [
    "### g. Aumento indefinido de $\\sigma_\\mathrm{xx}$.\n",
    "\n",
    "Recordar que se tiene la hipótesis de que el suelo llega a rotura cuando $\\tau_\\mathrm{n} > 0.735 \\sigma_\\mathrm{n}$.\n"
   ]
  },
  {
   "cell_type": "code",
   "execution_count": null,
   "metadata": {},
   "outputs": [],
   "source": [
    "style = {'description_width': '100px'}\n",
    "interact(  # Interactive widgets\n",
    "    plot_mohr_circle,\n",
    "    sigma_xx=widgets.FloatSlider(value=10, min=0, max=25, description=\"σ_xx\", style=style),\n",
    "    sigma_yy=widgets.FloatText(value=4.58, description=\"σ_yy\", style=style),\n",
    "    tau_xy=widgets.FloatText(value=2.0, description=\"𝜏_xy\", style=style),\n",
    "    plot_envelope=widgets.Checkbox(value=False, description=\"Plot envelope?\", style=style),\n",
    "    plot_pole=widgets.Checkbox(value=False, description=\"Plot pole?\", style=style),\n",
    "    plot_plane=widgets.Checkbox(value=False, description=\"Plot a plane?\", style=style),\n",
    "    alpha=widgets.FloatSlider(value=0, min=0, max=180, step=0.2, description=\"α\", style=style),\n",
    "    xlim=fixed((0, 20)),\n",
    "    ylim=fixed((-8, 8)),\n",
    ")"
   ]
  },
  {
   "cell_type": "code",
   "execution_count": null,
   "metadata": {},
   "outputs": [],
   "source": [
    "stage_g = plot_mohr_circle(sigma_xx=16.25, sigma_yy=4.58, tau_xy=2.0, plot_envelope=True)\n",
    "stage_g"
   ]
  },
  {
   "cell_type": "markdown",
   "metadata": {},
   "source": [
    "## El polo y las tensiones en un plano de interés\n",
    "\n",
    "* Una vez verificado que si se llega a rotura en la trayectoria indicada, se desea saber ¿En qué plano se produce? y ¿cuáles son los esfuerzos sobre ese plano.\n",
    "\n",
    "* ¿Cuál sería el ángulo del plano que estaría sometido al máximo esfuerzo cortante?\n",
    "\n",
    "* ¿Ocurre una falla por el plano de mayor esfuerzo cortante?"
   ]
  },
  {
   "cell_type": "code",
   "execution_count": null,
   "metadata": {},
   "outputs": [],
   "source": [
    "style = {'description_width': '100px'}\n",
    "interact(  # Interactive widgets\n",
    "    plot_mohr_circle,\n",
    "    sigma_xx=widgets.FloatSlider(value=16.25, min=0, max=25, description=\"σ_xx\", style=style),\n",
    "    sigma_yy=widgets.FloatText(value=4.58, description=\"σ_yy\", style=style),\n",
    "    tau_xy=widgets.FloatText(value=2.0, description=\"𝜏_xy\", style=style),\n",
    "    plot_envelope=widgets.Checkbox(value=False, description=\"Plot envelope?\", style=style),\n",
    "    plot_pole=widgets.Checkbox(value=False, description=\"Plot pole?\", style=style),\n",
    "    plot_plane=widgets.Checkbox(value=False, description=\"Plot a plane?\", style=style),\n",
    "    alpha=widgets.FloatSlider(value=0, min=0, max=180, step=0.2, description=\"α\", style=style),xlim=fixed((0, 20)),\n",
    "    ylim=fixed((-8, 8)),\n",
    ")"
   ]
  },
  {
   "cell_type": "code",
   "execution_count": null,
   "metadata": {},
   "outputs": [],
   "source": [
    "plot_mohr_circle(sigma_xx=16.25, sigma_yy=4.58, tau_xy=2.0, plot_pole=True)"
   ]
  },
  {
   "cell_type": "markdown",
   "metadata": {},
   "source": [
    "## Trayectorias de esfuerzos\n",
    "\n",
    "* Representar en los planos $(\\sigma_1 - \\sigma_3)$, $(s-t)$ y $(p-q)$ la trayectoria de tensiones correspondiente a las modificaciones de estados del ítem anterior.\n",
    "\n",
    "**¡Importante!:** considerar la hipótesis de que el suelo llega a rotura cuando $\\tau_\\mathrm{n} > 0.735\\sigma_\\mathrm{n}$."
   ]
  },
  {
   "cell_type": "code",
   "execution_count": null,
   "metadata": {},
   "outputs": [],
   "source": [
    "def plot_all_mohr_circles(stages):\n",
    "    theta = np.linspace(0, 2 * np.pi, 200)\n",
    "    # sigma = np.linspace(0, sig_1 * factor, 200)\n",
    "    fig, ax = plt.subplots(ncols=1, nrows=1, figsize=[6.5, 3.5])\n",
    "    i = 0\n",
    "    for st in stages:\n",
    "        sigma_xx, sigma_yy, tau_xy = st['sig_xx'], st['sig_yy'], st['tau_xy']\n",
    "        c = 0.5 * (sigma_xx + sigma_yy)\n",
    "        r = np.sqrt((sigma_xx - c) ** 2 + tau_xy**2)\n",
    "        sig_1 = r * np.cos(0) + c\n",
    "        sig_3 = r * np.cos(np.pi) + c\n",
    "        # ax.axhline(y=0, xmin=0, xmax=sig_1 * factor, c=\"k\")\n",
    "        ax.plot(r * np.cos(theta) + c, r * np.sin(theta), label=f'Stage {i}')  # Mohr circle\n",
    "        i += 1\n",
    "    ax.legend(loc=\"center left\", bbox_to_anchor=(1, 0.5))\n",
    "    ax.grid(True, ls=\"--\")\n",
    "    ax.spines[\"bottom\"].set_linewidth(1.5)\n",
    "    ax.spines[\"left\"].set_linewidth(1.5)\n",
    "    # ax.axis(\"equal\")\n",
    "    ax.set_aspect(\"equal\", adjustable=None, anchor='C')\n",
    "    ax.set(\n",
    "        xlabel=\"Normal stress, $\\sigma_\\mathrm{n}\\;[\\mathrm{kg/cm^2}]$\",\n",
    "        ylabel=\"Shear stress, $\\\\tau_\\mathrm{n}\\;[\\mathrm{kg/cm^2}]$\")\n",
    "    return\n",
    "\n"
   ]
  },
  {
   "cell_type": "code",
   "execution_count": null,
   "metadata": {},
   "outputs": [],
   "source": [
    "stages = (stage_0, stage_a, stage_b, stage_c, stage_d, stage_e, stage_f, stage_g)\n",
    "plot_all_mohr_circles(stages)"
   ]
  },
  {
   "cell_type": "code",
   "execution_count": null,
   "metadata": {},
   "outputs": [],
   "source": [
    "def plot_stress_path(stages):\n",
    "    sig_1, sig_3, s, t, p, q = [], [], [], [], [], []\n",
    "    for st in stages:\n",
    "        sig_1.append(st['sig_1'])\n",
    "        sig_3.append(st['sig_3'])\n",
    "        s.append(st['s'])\n",
    "        t.append(st['t'])\n",
    "        p.append(st['p'])\n",
    "        q.append(st['q'])\n",
    "    fig, (ax0, ax1, ax2) = plt.subplots(ncols=3, nrows=1, figsize=[11, 4.0])\n",
    "    # sigma_1, \\sigma_3\n",
    "    ax0.plot(sig_3, sig_1, ls=\"--\", c=\"k\", marker=\"o\", mfc = \"tomato\", lw=0.75)\n",
    "    s_3 = np.linspace(0, max(sig_1)*1.5)\n",
    "    ax0.plot(\n",
    "        s_3, s_3 * (1 +  np.sin(np.arctan(0.735))) / (1 - np.sin(np.arctan(0.735))), c=\"#BB5566\",\n",
    "        label=\"Failure criterion: \\n$\\sigma_1 = \\sigma_3 \\\\frac{1 + \\sin \\phi'}{1 - \\sin \\phi'}$\",\n",
    "        )\n",
    "    ax0.set(\n",
    "        xlabel=\"$\\sigma'_{3}\\;[\\mathrm{kg/cm^2}]$\", ylabel=\"$\\sigma'_{1}\\;[\\mathrm{kg/cm^2}]$\",\n",
    "        xlim=(0, 10), ylim=(0, 20)\n",
    "    )\n",
    "    # s, t\n",
    "    ax1.plot(s, t, ls=\"--\", c=\"k\", marker=\"o\", mfc = \"tomato\", lw=0.75)\n",
    "    s_plot = np.linspace(0, max(s)*1.5)\n",
    "    ax1.plot(\n",
    "        s_plot, s_plot * np.sin(np.arctan(0.735)), c=\"#004488\",\n",
    "        label=\"Failure criterion: \\n$t = s'\\,\\sin \\phi'$\"\n",
    "        )\n",
    "    ax1.set(\n",
    "        xlabel=\"$s'\\;[\\mathrm{kg/cm^2}]$\", ylabel=\"$t\\;[\\mathrm{kg/cm^2}]$\",\n",
    "        xlim=(0, 15), ylim=(0, 8)\n",
    "    )\n",
    "    # p, q\n",
    "    m = 6 * np.sin(np.arctan(0.735)) / (3 - np.sin(np.arctan(0.735)))\n",
    "    ax2.plot(p, q, ls=\"--\", c=\"k\", marker=\"o\", mfc = \"tomato\", lw=0.75)\n",
    "    ax2.plot(\n",
    "            np.linspace(0, max(p)*1.5), m * np.linspace(0, max(p)*1.5),c=\"#DDAA33\",\n",
    "            label=\"Failure criterion: \\n$q = \\\\frac{6\\sin \\phi'}{3 - \\sin \\phi'} p'$\"\n",
    "        )\n",
    "    ax2.set(\n",
    "        xlabel=\"$p\\;[\\mathrm{kg/cm^2}]$\", ylabel=\"$q\\;[\\mathrm{kg/cm^2}]$\",\n",
    "        xlim=(0, 15), ylim=(0, 14)\n",
    "    )\n",
    "\n",
    "    for ax in (ax0, ax1, ax2):\n",
    "        ax.legend(loc=\"upper center\", bbox_to_anchor=(0.5, -0.2))\n",
    "        ax.grid(True, ls=\":\")\n",
    "        ax.spines[\"bottom\"].set_linewidth(1.5)\n",
    "        ax.spines[\"left\"].set_linewidth(1.5)\n",
    "        \n",
    "    fig.tight_layout()\n"
   ]
  },
  {
   "cell_type": "code",
   "execution_count": null,
   "metadata": {},
   "outputs": [],
   "source": [
    "stages = (stage_0, stage_a, stage_b, stage_c, stage_d, stage_e, stage_f, stage_g)\n",
    "plot_stress_path(stages)"
   ]
  },
  {
   "cell_type": "code",
   "execution_count": null,
   "metadata": {},
   "outputs": [],
   "source": [
    "def plot_unique_path(sigma_xx=10, sigma_yy=5, tau_xy=2.0):\n",
    "    stage = plot_mohr_circle(sigma_xx, sigma_yy, tau_xy, plot_envelope=True, xlim=(0, 20), ylim=(-8, 8))\n",
    "    plot_stress_path([stage])\n",
    "\n",
    "style = {'description_width': '100px'}\n",
    "interact(  # Interactive widgets\n",
    "    plot_unique_path,\n",
    "    sigma_xx=widgets.FloatSlider(value=7, min=0, max=25, description=\"σ_xx\", style=style),\n",
    "    sigma_yy=widgets.FloatSlider(value=5, min=0, max=25, description=\"σ_yy\", style=style),\n",
    "    tau_xy=widgets.FloatSlider(value=2.0, min=0, max=25, description=\"𝜏_xy\", style=style)\n",
    ")"
   ]
  }
 ],
 "metadata": {
  "kernelspec": {
   "display_name": "Python 3.9.13 64-bit ('3.9.13')",
   "language": "python",
   "name": "python3"
  },
  "language_info": {
   "codemirror_mode": {
    "name": "ipython",
    "version": 3
   },
   "file_extension": ".py",
   "mimetype": "text/x-python",
   "name": "python",
   "nbconvert_exporter": "python",
   "pygments_lexer": "ipython3",
   "version": "3.9.13"
  },
  "orig_nbformat": 4,
  "vscode": {
   "interpreter": {
    "hash": "a0e11ae800efa173d6879ea3f87342f61dd45808be37c75442bc6387316a4953"
   }
  }
 },
 "nbformat": 4,
 "nbformat_minor": 2
}
